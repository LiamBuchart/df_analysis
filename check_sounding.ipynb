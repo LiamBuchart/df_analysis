{
 "cells": [
  {
   "cell_type": "code",
   "execution_count": 3,
   "metadata": {
    "tags": []
   },
   "outputs": [],
   "source": [
    "import pandas as pd\n",
    "import os\n",
    "import time\n",
    "import numpy as np"
   ]
  },
  {
   "cell_type": "code",
   "execution_count": 4,
   "metadata": {
    "tags": []
   },
   "outputs": [
    {
     "name": "stdout",
     "output_type": "stream",
     "text": [
      "   Unnamed: 0  pressure  height  temperature  dewpoint  direction  speed  \\\n",
      "0           0     966.0     379         10.0       3.0      145.0    2.0   \n",
      "1           1     959.0     440         11.0       3.0      166.0    5.0   \n",
      "2           2     939.8     610         10.2       1.6      225.0   12.0   \n",
      "3           3     925.0     743          9.6       0.6      255.0    8.0   \n",
      "4           4     905.9     914          8.2       0.2      295.0   10.0   \n",
      "\n",
      "     u_wind    v_wind station  station_number                 time  latitude  \\\n",
      "0 -1.147153  1.638304    CWVK           73033  2018-05-01 12:00:00     50.28   \n",
      "1 -1.209609  4.851479    CWVK           73033  2018-05-01 12:00:00     50.28   \n",
      "2  8.485281  8.485281    CWVK           73033  2018-05-01 12:00:00     50.28   \n",
      "3  7.727407  2.070552    CWVK           73033  2018-05-01 12:00:00     50.28   \n",
      "4  9.063078 -4.226183    CWVK           73033  2018-05-01 12:00:00     50.28   \n",
      "\n",
      "   longitude  elevation     pw  ddmmyyyy  \n",
      "0    -119.27      379.0  13.01   1052018  \n",
      "1    -119.27      379.0  13.01   1052018  \n",
      "2    -119.27      379.0  13.01   1052018  \n",
      "3    -119.27      379.0  13.01   1052018  \n",
      "4    -119.27      379.0  13.01   1052018  \n"
     ]
    }
   ],
   "source": [
    "fpath = os.getcwd()  # assuming df is in current dir\n",
    "df = pd.read_csv(\"12Z_soundings.csv\")\n",
    "print(df.head())"
   ]
  },
  {
   "cell_type": "code",
   "execution_count": 16,
   "metadata": {
    "tags": []
   },
   "outputs": [
    {
     "name": "stdout",
     "output_type": "stream",
     "text": [
      "   height    u_wind    v_wind  ddmmyyyy\n",
      "0     379 -1.147153  1.638304   1052018\n",
      "1     440 -1.209609  4.851479   1052018\n",
      "2     610  8.485281  8.485281   1052018\n",
      "3     743  7.727407  2.070552   1052018\n",
      "4     914  9.063078 -4.226183   1052018\n"
     ]
    }
   ],
   "source": [
    "df2 = df[[\"pw\", \"ddmmyyyy\"]]\n",
    "df3 = df[[\"speed\", \"ddmmyyyy\"]]\n",
    "df4 = df[[\"pressure\", \"speed\", \"ddmmyyyy\"]]\n",
    "df_tke = df[[\"height\", \"u_wind\", \"v_wind\", \"ddmmyyyy\"]]\n",
    "print(df_tke.head())"
   ]
  },
  {
   "cell_type": "code",
   "execution_count": 7,
   "metadata": {
    "tags": []
   },
   "outputs": [
    {
     "name": "stdout",
     "output_type": "stream",
     "text": [
      "        pw  ddmmyyyy  Count\n",
      "0    14.79  15052018    157\n",
      "1    13.67  10052018    150\n",
      "2    13.29   6062018    146\n",
      "3    17.43  25052018    146\n",
      "4    21.98   5072018    146\n",
      "..     ...       ...    ...\n",
      "687   9.58  14072018     35\n",
      "688   0.00   4062020     28\n",
      "689   0.00  29062022     27\n",
      "690   0.00   5052020     25\n",
      "691  13.43  25062018     16\n",
      "\n",
      "[692 rows x 3 columns]\n",
      "0.039423032999999386\n"
     ]
    }
   ],
   "source": [
    "# check the measurements per day\n",
    "t = time.process_time()\n",
    "\n",
    "print(df2\n",
    " .value_counts()\n",
    " .groupby(\"ddmmyyyy\")\n",
    " .head(1)\n",
    " .reset_index(name=\"Count\")\n",
    " )\n",
    "\n",
    "elapsed_time = time.process_time() - t\n",
    "print(elapsed_time)"
   ]
  },
  {
   "cell_type": "code",
   "execution_count": 12,
   "metadata": {},
   "outputs": [
    {
     "name": "stdout",
     "output_type": "stream",
     "text": [
      "               mean\n",
      "ddmmyyyy           \n",
      "26092019  62.510204\n",
      "1072018   53.938272\n",
      "24092019  53.378947\n",
      "25092019  50.802083\n",
      "2062018   48.192771\n",
      "...             ...\n",
      "10052022   9.309278\n",
      "5082018    8.927711\n",
      "22082018   8.130000\n",
      "21062018   7.041667\n",
      "11092019   5.988372\n",
      "\n",
      "[692 rows x 1 columns]\n",
      "0.02621321099999996\n"
     ]
    }
   ],
   "source": [
    "# wind the strongest mean wind each day\n",
    "t = time.process_time()\n",
    "\n",
    "print(df3\n",
    " .groupby([\"ddmmyyyy\"])\n",
    " .agg({\"speed\" : \"mean\"})\n",
    " .rename(columns={\"speed\": \"mean\"})\n",
    " .sort_values([\"mean\"], ascending=False)\n",
    " ) \n",
    "\n",
    "elapsed_time = time.process_time() - t\n",
    "print(elapsed_time)"
   ]
  },
  {
   "cell_type": "code",
   "execution_count": 13,
   "metadata": {},
   "outputs": [
    {
     "name": "stdout",
     "output_type": "stream",
     "text": [
      "               mean\n",
      "ddmmyyyy           \n",
      "26092019  62.510204\n",
      "1072018   53.938272\n",
      "24092019  53.378947\n",
      "25092019  50.802083\n",
      "2062018   48.192771\n",
      "...             ...\n",
      "10052022   9.309278\n",
      "5082018    8.927711\n",
      "22082018   8.130000\n",
      "21062018   7.041667\n",
      "11092019   5.988372\n",
      "\n",
      "[692 rows x 1 columns]\n",
      "0.018288110999999496\n"
     ]
    }
   ],
   "source": [
    "# wind the strongest mean wind  each day\n",
    "t = time.process_time()\n",
    "\n",
    "print(df3\n",
    " .groupby([\"ddmmyyyy\"])\n",
    " .agg({\"speed\" : \"mean\"})\n",
    " .rename(columns={\"speed\": \"mean\"})\n",
    " .sort_values([\"mean\"], ascending=False)\n",
    " ) \n",
    "\n",
    "elapsed_time = time.process_time() - t\n",
    "print(elapsed_time)"
   ]
  },
  {
   "cell_type": "code",
   "execution_count": 19,
   "metadata": {},
   "outputs": [
    {
     "name": "stdout",
     "output_type": "stream",
     "text": [
      "           max\n",
      "ddmmyyyy      \n",
      "3092018   21.0\n",
      "20072018  21.0\n",
      "8062022   18.0\n",
      "28052021  17.0\n",
      "19052018  16.0\n",
      "...        ...\n",
      "29082018   0.0\n",
      "29082020   0.0\n",
      "30062020   0.0\n",
      "31052018   0.0\n",
      "31052021   0.0\n",
      "\n",
      "[688 rows x 1 columns]\n",
      "0.024992697000000064\n"
     ]
    }
   ],
   "source": [
    "# get lowest ~50mb of wind speed and get daily maximums\n",
    "t = time.process_time()\n",
    "\n",
    "df4 = df4.loc[df4[\"pressure\"] > 940]\n",
    "print(df4\n",
    "      .groupby([\"ddmmyyyy\"])\n",
    "      .agg({\"speed\" : \"max\"})\n",
    "      .rename(columns={\"speed\": \"max\"})\n",
    "      .sort_values([\"max\"], ascending=False)\n",
    "     )\n",
    "\n",
    "elapsed_time = time.process_time() - t\n",
    "print(elapsed_time)"
   ]
  },
  {
   "cell_type": "code",
   "execution_count": 27,
   "metadata": {},
   "outputs": [
    {
     "name": "stdout",
     "output_type": "stream",
     "text": [
      "ddmmyyyy\n",
      "1052018     22.383788\n",
      "1052019      4.805934\n",
      "1052020      7.681580\n",
      "1052021     34.038015\n",
      "1052022      3.524046\n",
      "              ...    \n",
      "31072022    14.318889\n",
      "31082018    21.199516\n",
      "31082019     2.520502\n",
      "31082020     9.681880\n",
      "31082021     9.635348\n",
      "Name: u_var, Length: 689, dtype: float64\n",
      "               u_var       v_var          tke\n",
      "ddmmyyyy                                     \n",
      "25062018  117.634197   14.944404  7030.569771\n",
      "15092021   18.866299  110.032897  6231.587796\n",
      "16062018    3.814501   97.658267  4775.843795\n",
      "4052022    83.874453   16.435040  3652.517193\n",
      "7072018    85.196530    5.104336  3642.251526\n",
      "...              ...         ...          ...\n",
      "5082019     0.418119    0.889550     0.483061\n",
      "2072022     0.386071    0.825657     0.415380\n",
      "9072018     0.370044    0.520352     0.203849\n",
      "31052022    0.421105    0.388474     0.164120\n",
      "1072022     0.227515    0.297967     0.070274\n",
      "\n",
      "[689 rows x 3 columns]\n",
      "0.05590820200000124\n"
     ]
    }
   ],
   "source": [
    "# find the mean tke in the lowest 1500m for each day\n",
    "t = time.process_time()\n",
    "\n",
    "df_tke = df_tke.loc[df_tke[\"height\"] < 1500]  # all values wih height less than \n",
    "df_tke[\"u_var\"] = np.nan  # primed values \n",
    "df_tke[\"v_var\"] = np.nan\n",
    "\n",
    "dates = df_tke[\"ddmmyyyy\"].unique()\n",
    "\n",
    "# get the daily variance values\n",
    "uu = df_tke.groupby([\"ddmmyyyy\"]).agg({\"u_wind\" : \"var\"}).rename(columns={\"u_wind\" : \"u_var\"})\n",
    "uu.set_index(dates)\n",
    "vv = df_tke.groupby([\"ddmmyyyy\"]).agg({\"v_wind\" : \"var\"}).rename(columns={\"v_wind\" : \"v_var\"})\n",
    "vv.set_index(dates)\n",
    "\n",
    "# concatinate the two frames to calculate daily tke\n",
    "frames = [uu, vv]\n",
    "tke = pd.concat(frames, axis=1)\n",
    "tke[\"tke\"] = 0.5 * (tke[\"u_var\"]**2 + tke[\"v_var\"]**2)  # get half the square of both variance values\n",
    "\n",
    "print(tke.sort_values(by=[\"tke\"], ascending=False))\n",
    "\n",
    "elapsed_time = time.process_time() - t\n",
    "print(elapsed_time)   "
   ]
  },
  {
   "cell_type": "code",
   "execution_count": 28,
   "metadata": {},
   "outputs": [
    {
     "data": {
      "text/plain": [
       "{'status': 'ok', 'restart': True}"
      ]
     },
     "execution_count": 28,
     "metadata": {},
     "output_type": "execute_result"
    }
   ],
   "source": [
    "# re-run the same commands with the cudf extension instead (dont have to change any syntax)\n",
    "get_ipython().kernel.do_shutdown(restart=True)"
   ]
  },
  {
   "cell_type": "code",
   "execution_count": 2,
   "metadata": {},
   "outputs": [
    {
     "name": "stdout",
     "output_type": "stream",
     "text": [
      "The cudf.pandas extension is already loaded. To reload it, use:\n",
      "  %reload_ext cudf.pandas\n"
     ]
    }
   ],
   "source": [
    "import cudf\n",
    "%load_ext cudf.pandas\n",
    "\n",
    "import pandas as pd\n",
    "import os\n",
    "import time\n",
    "import numpy as np"
   ]
  },
  {
   "cell_type": "code",
   "execution_count": 4,
   "metadata": {
    "tags": []
   },
   "outputs": [
    {
     "name": "stdout",
     "output_type": "stream",
     "text": [
      "   Unnamed: 0  pressure  height  temperature  dewpoint  direction  speed  \\\n",
      "0           0     966.0     379         10.0       3.0      145.0    2.0   \n",
      "1           1     959.0     440         11.0       3.0      166.0    5.0   \n",
      "2           2     939.8     610         10.2       1.6      225.0   12.0   \n",
      "3           3     925.0     743          9.6       0.6      255.0    8.0   \n",
      "4           4     905.9     914          8.2       0.2      295.0   10.0   \n",
      "\n",
      "     u_wind    v_wind station  station_number                 time  latitude  \\\n",
      "0 -1.147153  1.638304    CWVK           73033  2018-05-01 12:00:00     50.28   \n",
      "1 -1.209609  4.851479    CWVK           73033  2018-05-01 12:00:00     50.28   \n",
      "2  8.485281  8.485281    CWVK           73033  2018-05-01 12:00:00     50.28   \n",
      "3  7.727407  2.070552    CWVK           73033  2018-05-01 12:00:00     50.28   \n",
      "4  9.063078 -4.226183    CWVK           73033  2018-05-01 12:00:00     50.28   \n",
      "\n",
      "   longitude  elevation     pw  ddmmyyyy  \n",
      "0    -119.27      379.0  13.01   1052018  \n",
      "1    -119.27      379.0  13.01   1052018  \n",
      "2    -119.27      379.0  13.01   1052018  \n",
      "3    -119.27      379.0  13.01   1052018  \n",
      "4    -119.27      379.0  13.01   1052018  \n"
     ]
    }
   ],
   "source": [
    "fpath = os.getcwd()  # assuming df is in current dir\n",
    "df = pd.read_csv(\"12Z_soundings.csv\")\n",
    "print(df.head())"
   ]
  },
  {
   "cell_type": "code",
   "execution_count": 5,
   "metadata": {
    "tags": []
   },
   "outputs": [
    {
     "name": "stdout",
     "output_type": "stream",
     "text": [
      "   height    u_wind    v_wind  ddmmyyyy\n",
      "0     379 -1.147153  1.638304   1052018\n",
      "1     440 -1.209609  4.851479   1052018\n",
      "2     610  8.485281  8.485281   1052018\n",
      "3     743  7.727407  2.070552   1052018\n",
      "4     914  9.063078 -4.226183   1052018\n"
     ]
    }
   ],
   "source": [
    "df2 = df[[\"pw\", \"ddmmyyyy\"]]\n",
    "df3 = df[[\"speed\", \"ddmmyyyy\"]]\n",
    "df4 = df[[\"pressure\", \"speed\", \"ddmmyyyy\"]]\n",
    "df_tke = df[[\"height\", \"u_wind\", \"v_wind\", \"ddmmyyyy\"]]\n",
    "print(df_tke.head())"
   ]
  },
  {
   "cell_type": "code",
   "execution_count": 6,
   "metadata": {},
   "outputs": [
    {
     "name": "stdout",
     "output_type": "stream",
     "text": [
      "               mean\n",
      "ddmmyyyy           \n",
      "26092019  62.510204\n",
      "1072018   53.938272\n",
      "24092019  53.378947\n",
      "25092019  50.802083\n",
      "2062018   48.192771\n",
      "...             ...\n",
      "10052022   9.309278\n",
      "5082018    8.927711\n",
      "22082018   8.130000\n",
      "21062018   7.041667\n",
      "11092019   5.988372\n",
      "\n",
      "[692 rows x 1 columns]\n",
      "0.07968894999999954\n"
     ]
    }
   ],
   "source": [
    "# wind the strongest mean wind  each day\n",
    "t = time.process_time()\n",
    "\n",
    "print(df3\n",
    " .groupby([\"ddmmyyyy\"])\n",
    " .agg({\"speed\" : \"mean\"})\n",
    " .rename(columns={\"speed\": \"mean\"})\n",
    " .sort_values([\"mean\"], ascending=False)\n",
    " ) \n",
    "\n",
    "elapsed_time = time.process_time() - t\n",
    "print(elapsed_time)"
   ]
  },
  {
   "cell_type": "code",
   "execution_count": 8,
   "metadata": {},
   "outputs": [
    {
     "name": "stdout",
     "output_type": "stream",
     "text": [
      "               u_var       v_var          tke\n",
      "ddmmyyyy                                     \n",
      "25062018  117.634197   14.944404  7030.569771\n",
      "15092021   18.866299  110.032897  6231.587796\n",
      "16062018    3.814501   97.658267  4775.843795\n",
      "4052022    83.874453   16.435040  3652.517193\n",
      "7072018    85.196530    5.104336  3642.251526\n",
      "...              ...         ...          ...\n",
      "5082019     0.418119    0.889550     0.483061\n",
      "2072022     0.386071    0.825657     0.415380\n",
      "9072018     0.370044    0.520352     0.203849\n",
      "31052022    0.421105    0.388474     0.164120\n",
      "1072022     0.227515    0.297967     0.070274\n",
      "\n",
      "[689 rows x 3 columns]\n",
      "0.040793405000000504\n"
     ]
    }
   ],
   "source": [
    "# find the mean tke in the lowest 1500m for each day\n",
    "t = time.process_time()\n",
    "\n",
    "df_tke = df_tke.loc[df_tke[\"height\"] < 1500]  # all values wih height less than \n",
    "df_tke[\"u_var\"] = np.nan  # primed values \n",
    "df_tke[\"v_var\"] = np.nan\n",
    "\n",
    "dates = df_tke[\"ddmmyyyy\"].unique()\n",
    "\n",
    "# get the daily variance values\n",
    "uu = df_tke.groupby([\"ddmmyyyy\"]).agg({\"u_wind\" : \"var\"}).rename(columns={\"u_wind\" : \"u_var\"})\n",
    "uu.set_index(dates)\n",
    "vv = df_tke.groupby([\"ddmmyyyy\"]).agg({\"v_wind\" : \"var\"}).rename(columns={\"v_wind\" : \"v_var\"})\n",
    "vv.set_index(dates)\n",
    "\n",
    "# concatinate the two frames to calculate daily tke\n",
    "frames = [uu, vv]\n",
    "tke = pd.concat(frames, axis=1)\n",
    "tke[\"tke\"] = 0.5 * (tke[\"u_var\"]**2 + tke[\"v_var\"]**2)  # get half the square of both variance values\n",
    "\n",
    "print(tke.sort_values(by=[\"tke\"], ascending=False))\n",
    "\n",
    "elapsed_time = time.process_time() - t\n",
    "print(elapsed_time) "
   ]
  },
  {
   "cell_type": "code",
   "execution_count": null,
   "metadata": {},
   "outputs": [],
   "source": []
  }
 ],
 "metadata": {
  "kernelspec": {
   "display_name": "Python 3 (ipykernel)",
   "language": "python",
   "name": "python3"
  },
  "language_info": {
   "codemirror_mode": {
    "name": "ipython",
    "version": 3
   },
   "file_extension": ".py",
   "mimetype": "text/x-python",
   "name": "python",
   "nbconvert_exporter": "python",
   "pygments_lexer": "ipython3",
   "version": "3.10.14"
  }
 },
 "nbformat": 4,
 "nbformat_minor": 4
}
