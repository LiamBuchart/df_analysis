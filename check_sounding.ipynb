{
 "cells": [
  {
   "cell_type": "code",
   "execution_count": 1,
   "metadata": {
    "tags": []
   },
   "outputs": [],
   "source": [
    "import pandas as pd\n",
    "import os\n",
    "import time\n",
    "import numpy as np"
   ]
  },
  {
   "cell_type": "code",
   "execution_count": 2,
   "metadata": {
    "tags": []
   },
   "outputs": [
    {
     "name": "stdout",
     "output_type": "stream",
     "text": [
      "   Unnamed: 0  pressure  height  temperature  dewpoint  direction  speed  \\\n",
      "0           0     966.0     379         10.0       3.0      145.0    2.0   \n",
      "1           1     959.0     440         11.0       3.0      166.0    5.0   \n",
      "2           2     939.8     610         10.2       1.6      225.0   12.0   \n",
      "3           3     925.0     743          9.6       0.6      255.0    8.0   \n",
      "4           4     905.9     914          8.2       0.2      295.0   10.0   \n",
      "\n",
      "     u_wind    v_wind station  station_number                 time  latitude  \\\n",
      "0 -1.147153  1.638304    CWVK           73033  2018-05-01 12:00:00     50.28   \n",
      "1 -1.209609  4.851479    CWVK           73033  2018-05-01 12:00:00     50.28   \n",
      "2  8.485281  8.485281    CWVK           73033  2018-05-01 12:00:00     50.28   \n",
      "3  7.727407  2.070552    CWVK           73033  2018-05-01 12:00:00     50.28   \n",
      "4  9.063078 -4.226183    CWVK           73033  2018-05-01 12:00:00     50.28   \n",
      "\n",
      "   longitude  elevation     pw  ddmmyyyy  \n",
      "0    -119.27      379.0  13.01   1052018  \n",
      "1    -119.27      379.0  13.01   1052018  \n",
      "2    -119.27      379.0  13.01   1052018  \n",
      "3    -119.27      379.0  13.01   1052018  \n",
      "4    -119.27      379.0  13.01   1052018  \n"
     ]
    }
   ],
   "source": [
    "fpath = os.getcwd()  # assuming df is in current dir\n",
    "df = pd.read_csv(\"12Z_soundings.csv\")\n",
    "print(df.head())"
   ]
  },
  {
   "cell_type": "code",
   "execution_count": 3,
   "metadata": {
    "tags": []
   },
   "outputs": [
    {
     "name": "stdout",
     "output_type": "stream",
     "text": [
      "   height    u_wind    v_wind  ddmmyyyy\n",
      "0     379 -1.147153  1.638304   1052018\n",
      "1     440 -1.209609  4.851479   1052018\n",
      "2     610  8.485281  8.485281   1052018\n",
      "3     743  7.727407  2.070552   1052018\n",
      "4     914  9.063078 -4.226183   1052018\n"
     ]
    }
   ],
   "source": [
    "df2 = df[[\"pw\", \"ddmmyyyy\"]]\n",
    "df3 = df[[\"speed\", \"ddmmyyyy\"]]\n",
    "df4 = df[[\"pressure\", \"speed\", \"ddmmyyyy\"]]\n",
    "df_tke = df[[\"height\", \"u_wind\", \"v_wind\", \"ddmmyyyy\"]]\n",
    "print(df_tke.head())"
   ]
  },
  {
   "cell_type": "code",
   "execution_count": 7,
   "metadata": {
    "tags": []
   },
   "outputs": [
    {
     "name": "stdout",
     "output_type": "stream",
     "text": [
      "        pw  ddmmyyyy  Count\n",
      "0    14.79  15052018    157\n",
      "1    13.67  10052018    150\n",
      "2    13.29   6062018    146\n",
      "3    17.43  25052018    146\n",
      "4    21.98   5072018    146\n",
      "..     ...       ...    ...\n",
      "687   9.58  14072018     35\n",
      "688   0.00   4062020     28\n",
      "689   0.00  29062022     27\n",
      "690   0.00   5052020     25\n",
      "691  13.43  25062018     16\n",
      "\n",
      "[692 rows x 3 columns]\n",
      "0.039423032999999386\n"
     ]
    }
   ],
   "source": [
    "# check the measurements per day\n",
    "t = time.process_time()\n",
    "\n",
    "print(df2\n",
    " .value_counts()\n",
    " .groupby(\"ddmmyyyy\")\n",
    " .head(1)\n",
    " .reset_index(name=\"Count\")\n",
    " )\n",
    "\n",
    "elapsed_time = time.process_time() - t\n",
    "print(elapsed_time)"
   ]
  },
  {
   "cell_type": "code",
   "execution_count": 12,
   "metadata": {},
   "outputs": [
    {
     "name": "stdout",
     "output_type": "stream",
     "text": [
      "               mean\n",
      "ddmmyyyy           \n",
      "26092019  62.510204\n",
      "1072018   53.938272\n",
      "24092019  53.378947\n",
      "25092019  50.802083\n",
      "2062018   48.192771\n",
      "...             ...\n",
      "10052022   9.309278\n",
      "5082018    8.927711\n",
      "22082018   8.130000\n",
      "21062018   7.041667\n",
      "11092019   5.988372\n",
      "\n",
      "[692 rows x 1 columns]\n",
      "0.02621321099999996\n"
     ]
    }
   ],
   "source": [
    "# wind the strongest mean wind each day\n",
    "t = time.process_time()\n",
    "\n",
    "print(df3\n",
    " .groupby([\"ddmmyyyy\"])\n",
    " .agg({\"speed\" : \"mean\"})\n",
    " .rename(columns={\"speed\": \"mean\"})\n",
    " .sort_values([\"mean\"], ascending=False)\n",
    " ) \n",
    "\n",
    "elapsed_time = time.process_time() - t\n",
    "print(elapsed_time)"
   ]
  },
  {
   "cell_type": "code",
   "execution_count": 4,
   "metadata": {},
   "outputs": [
    {
     "name": "stdout",
     "output_type": "stream",
     "text": [
      "               mean\n",
      "ddmmyyyy           \n",
      "26092019  62.510204\n",
      "1072018   53.938272\n",
      "24092019  53.378947\n",
      "25092019  50.802083\n",
      "2062018   48.192771\n",
      "...             ...\n",
      "10052022   9.309278\n",
      "5082018    8.927711\n",
      "22082018   8.130000\n",
      "21062018   7.041667\n",
      "11092019   5.988372\n",
      "\n",
      "[692 rows x 1 columns]\n",
      "0.011078920999999964\n"
     ]
    }
   ],
   "source": [
    "# wind the strongest mean wind  each day\n",
    "t = time.process_time()\n",
    "\n",
    "print(df3\n",
    " .groupby([\"ddmmyyyy\"])\n",
    " .agg({\"speed\" : \"mean\"})\n",
    " .rename(columns={\"speed\": \"mean\"})\n",
    " .sort_values([\"mean\"], ascending=False)\n",
    " ) \n",
    "\n",
    "elapsed_time = time.process_time() - t\n",
    "print(elapsed_time)"
   ]
  },
  {
   "cell_type": "code",
   "execution_count": 5,
   "metadata": {},
   "outputs": [
    {
     "name": "stdout",
     "output_type": "stream",
     "text": [
      "           max\n",
      "ddmmyyyy      \n",
      "3092018   21.0\n",
      "20072018  21.0\n",
      "8062022   18.0\n",
      "28052021  17.0\n",
      "19052018  16.0\n",
      "...        ...\n",
      "13052019   0.0\n",
      "13062019   0.0\n",
      "31052018   0.0\n",
      "28062020   0.0\n",
      "1072020    0.0\n",
      "\n",
      "[688 rows x 1 columns]\n",
      "0.006715414999999947\n"
     ]
    }
   ],
   "source": [
    "# get lowest ~50mb of wind speed and get daily maximums\n",
    "t = time.process_time()\n",
    "\n",
    "df4 = df4.loc[df4[\"pressure\"] > 940]\n",
    "print(df4\n",
    "      .groupby([\"ddmmyyyy\"])\n",
    "      .agg({\"speed\" : \"max\"})\n",
    "      .rename(columns={\"speed\": \"max\"})\n",
    "      .sort_values([\"max\"], ascending=False)\n",
    "     )\n",
    "\n",
    "elapsed_time = time.process_time() - t\n",
    "print(elapsed_time)"
   ]
  },
  {
   "cell_type": "code",
   "execution_count": 9,
   "metadata": {},
   "outputs": [
    {
     "name": "stdout",
     "output_type": "stream",
     "text": [
      "               u_var       v_var          tke\n",
      "ddmmyyyy                                     \n",
      "25062018  117.634197   14.944404  7030.569771\n",
      "15092021   18.866299  110.032897  6231.587796\n",
      "16062018    3.814501   97.658267  4775.843795\n",
      "4052022    83.874453   16.435040  3652.517193\n",
      "7072018    85.196530    5.104336  3642.251526\n",
      "...              ...         ...          ...\n",
      "5082019     0.418119    0.889550     0.483061\n",
      "2072022     0.386071    0.825657     0.415380\n",
      "9072018     0.370044    0.520352     0.203849\n",
      "31052022    0.421105    0.388474     0.164120\n",
      "1072022     0.227515    0.297967     0.070274\n",
      "\n",
      "[689 rows x 3 columns]\n",
      "0.0390332330000005\n"
     ]
    }
   ],
   "source": [
    "# find the mean tke in the lowest 1500m for each day\n",
    "t = time.process_time()\n",
    "\n",
    "df_tke = df_tke.loc[df_tke[\"height\"] < 1500]  # all values wih height less than \n",
    "df_tke[\"u_var\"] = np.nan  # primed values \n",
    "df_tke[\"v_var\"] = np.nan\n",
    "\n",
    "dates = df_tke[\"ddmmyyyy\"].unique()\n",
    "\n",
    "# get the daily variance values\n",
    "uu = df_tke.groupby([\"ddmmyyyy\"]).agg({\"u_wind\" : \"var\"}).rename(columns={\"u_wind\" : \"u_var\"})\n",
    "uu.set_index(dates)\n",
    "vv = df_tke.groupby([\"ddmmyyyy\"]).agg({\"v_wind\" : \"var\"}).rename(columns={\"v_wind\" : \"v_var\"})\n",
    "vv.set_index(dates)\n",
    "\n",
    "# concatinate the two frames to calculate daily tke\n",
    "frames = [uu, vv]\n",
    "tke = pd.concat(frames, axis=1)\n",
    "tke[\"tke\"] = 0.5 * (tke[\"u_var\"]**2 + tke[\"v_var\"]**2)  # get half the square of both variance values\n",
    "\n",
    "print(tke.sort_values(by=[\"tke\"], ascending=False))\n",
    "\n",
    "elapsed_time = time.process_time() - t\n",
    "print(elapsed_time)   "
   ]
  },
  {
   "cell_type": "code",
   "execution_count": 3,
   "metadata": {},
   "outputs": [
    {
     "data": {
      "text/plain": [
       "{'status': 'ok', 'restart': True}"
      ]
     },
     "execution_count": 3,
     "metadata": {},
     "output_type": "execute_result"
    }
   ],
   "source": [
    "# re-run the same commands with the cudf extension instead (dont have to change any syntax)\n",
    "get_ipython().kernel.do_shutdown(restart=True)"
   ]
  },
  {
   "cell_type": "code",
   "execution_count": 1,
   "metadata": {},
   "outputs": [],
   "source": [
    "import cudf\n",
    "%load_ext cudf.pandas\n",
    "\n",
    "import pandas as pd\n",
    "import os\n",
    "import time\n",
    "import numpy as np"
   ]
  },
  {
   "cell_type": "code",
   "execution_count": 2,
   "metadata": {
    "tags": []
   },
   "outputs": [
    {
     "name": "stdout",
     "output_type": "stream",
     "text": [
      "   Unnamed: 0  pressure  height  temperature  dewpoint  direction  speed  \\\n",
      "0           0     966.0     379         10.0       3.0      145.0    2.0   \n",
      "1           1     959.0     440         11.0       3.0      166.0    5.0   \n",
      "2           2     939.8     610         10.2       1.6      225.0   12.0   \n",
      "3           3     925.0     743          9.6       0.6      255.0    8.0   \n",
      "4           4     905.9     914          8.2       0.2      295.0   10.0   \n",
      "\n",
      "     u_wind    v_wind station  station_number                 time  latitude  \\\n",
      "0 -1.147153  1.638304    CWVK           73033  2018-05-01 12:00:00     50.28   \n",
      "1 -1.209609  4.851479    CWVK           73033  2018-05-01 12:00:00     50.28   \n",
      "2  8.485281  8.485281    CWVK           73033  2018-05-01 12:00:00     50.28   \n",
      "3  7.727407  2.070552    CWVK           73033  2018-05-01 12:00:00     50.28   \n",
      "4  9.063078 -4.226183    CWVK           73033  2018-05-01 12:00:00     50.28   \n",
      "\n",
      "   longitude  elevation     pw  ddmmyyyy  \n",
      "0    -119.27      379.0  13.01   1052018  \n",
      "1    -119.27      379.0  13.01   1052018  \n",
      "2    -119.27      379.0  13.01   1052018  \n",
      "3    -119.27      379.0  13.01   1052018  \n",
      "4    -119.27      379.0  13.01   1052018  \n"
     ]
    }
   ],
   "source": [
    "fpath = os.getcwd()  # assuming df is in current dir\n",
    "df = pd.read_csv(\"12Z_soundings.csv\")\n",
    "print(df.head())"
   ]
  },
  {
   "cell_type": "code",
   "execution_count": 3,
   "metadata": {
    "tags": []
   },
   "outputs": [
    {
     "name": "stdout",
     "output_type": "stream",
     "text": [
      "   height    u_wind    v_wind  ddmmyyyy\n",
      "0     379 -1.147153  1.638304   1052018\n",
      "1     440 -1.209609  4.851479   1052018\n",
      "2     610  8.485281  8.485281   1052018\n",
      "3     743  7.727407  2.070552   1052018\n",
      "4     914  9.063078 -4.226183   1052018\n"
     ]
    }
   ],
   "source": [
    "df2 = df[[\"pw\", \"ddmmyyyy\"]]\n",
    "df3 = df[[\"speed\", \"ddmmyyyy\"]]\n",
    "df4 = df[[\"pressure\", \"speed\", \"ddmmyyyy\"]]\n",
    "df_tke = df[[\"height\", \"u_wind\", \"v_wind\", \"ddmmyyyy\"]]\n",
    "print(df_tke.head())"
   ]
  },
  {
   "cell_type": "code",
   "execution_count": 7,
   "metadata": {},
   "outputs": [
    {
     "name": "stdout",
     "output_type": "stream",
     "text": [
      "               mean\n",
      "ddmmyyyy           \n",
      "26092019  62.510204\n",
      "1072018   53.938272\n",
      "24092019  53.378947\n",
      "25092019  50.802083\n",
      "2062018   48.192771\n",
      "...             ...\n",
      "10052022   9.309278\n",
      "5082018    8.927711\n",
      "22082018   8.130000\n",
      "21062018   7.041667\n",
      "11092019   5.988372\n",
      "\n",
      "[692 rows x 1 columns]\n",
      "0.022601546999999833\n"
     ]
    }
   ],
   "source": [
    "# wind the strongest mean wind  each day\n",
    "t = time.process_time()\n",
    "\n",
    "print(df3\n",
    " .groupby([\"ddmmyyyy\"])\n",
    " .agg({\"speed\" : \"mean\"})\n",
    " .rename(columns={\"speed\": \"mean\"})\n",
    " .sort_values([\"mean\"], ascending=False)\n",
    " ) \n",
    "\n",
    "elapsed_time = time.process_time() - t\n",
    "print(elapsed_time)"
   ]
  },
  {
   "cell_type": "code",
   "execution_count": 10,
   "metadata": {},
   "outputs": [
    {
     "name": "stdout",
     "output_type": "stream",
     "text": [
      "               u_var       v_var          tke\n",
      "ddmmyyyy                                     \n",
      "25062018  117.634197   14.944404  7030.569771\n",
      "15092021   18.866299  110.032897  6231.587796\n",
      "16062018    3.814501   97.658267  4775.843795\n",
      "4052022    83.874453   16.435040  3652.517193\n",
      "7072018    85.196530    5.104336  3642.251526\n",
      "...              ...         ...          ...\n",
      "5082019     0.418119    0.889550     0.483061\n",
      "2072022     0.386071    0.825657     0.415380\n",
      "9072018     0.370044    0.520352     0.203849\n",
      "31052022    0.421105    0.388474     0.164120\n",
      "1072022     0.227515    0.297967     0.070274\n",
      "\n",
      "[689 rows x 3 columns]\n",
      "0.039358788000000366\n"
     ]
    }
   ],
   "source": [
    "# find the mean tke in the lowest 1500m for each day\n",
    "t = time.process_time()\n",
    "\n",
    "df_tke = df_tke.loc[df_tke[\"height\"] < 1500]  # all values wih height less than \n",
    "df_tke[\"u_var\"] = np.nan  # primed values \n",
    "df_tke[\"v_var\"] = np.nan\n",
    "\n",
    "dates = df_tke[\"ddmmyyyy\"].unique()\n",
    "\n",
    "# get the daily variance values\n",
    "uu = df_tke.groupby([\"ddmmyyyy\"]).agg({\"u_wind\" : \"var\"}).rename(columns={\"u_wind\" : \"u_var\"})\n",
    "uu.set_index(dates)\n",
    "vv = df_tke.groupby([\"ddmmyyyy\"]).agg({\"v_wind\" : \"var\"}).rename(columns={\"v_wind\" : \"v_var\"})\n",
    "vv.set_index(dates)\n",
    "\n",
    "# concatinate the two frames to calculate daily tke\n",
    "frames = [uu, vv]\n",
    "tke = pd.concat(frames, axis=1)\n",
    "tke[\"tke\"] = 0.5 * (tke[\"u_var\"]**2 + tke[\"v_var\"]**2)  # get half the square of both variance values\n",
    "\n",
    "print(tke.sort_values(by=[\"tke\"], ascending=False))\n",
    "\n",
    "elapsed_time = time.process_time() - t\n",
    "print(elapsed_time) "
   ]
  },
  {
   "cell_type": "code",
   "execution_count": 12,
   "metadata": {},
   "outputs": [
    {
     "name": "stdout",
     "output_type": "stream",
     "text": [
      "   a    b\n",
      "0  0  100\n",
      "1  1  101\n",
      "2  2  102\n",
      "0  0  100\n",
      "1  1  101\n",
      "2  2  102\n"
     ]
    }
   ],
   "source": [
    "# profiling\n",
    "new_df = pd.DataFrame({'a': [0, 1, 2], 'b': [100, 101, 102]})\n",
    "new_df = pd.concat([new_df, new_df], axis=0)\n",
    "\n",
    "print(new_df)"
   ]
  },
  {
   "cell_type": "code",
   "execution_count": 13,
   "metadata": {
    "tags": []
   },
   "outputs": [
    {
     "name": "stdout",
     "output_type": "stream",
     "text": [
      "a\n",
      "0    2\n",
      "1    2\n",
      "2    2\n",
      "Name: b, dtype: int64\n"
     ]
    },
    {
     "data": {
      "text/html": [
       "<pre style=\"white-space:pre;overflow-x:auto;line-height:normal;font-family:Menlo,'DejaVu Sans Mono',consolas,'Courier New',monospace\"><span style=\"font-style: italic\">                                                                                                         </span>\n",
       "<span style=\"font-style: italic\">                                        Total time elapsed: 2.650 seconds                                </span>\n",
       "<span style=\"font-style: italic\">                                      5 GPU function calls in 2.305 seconds                              </span>\n",
       "<span style=\"font-style: italic\">                                      0 CPU function calls in 0.000 seconds                              </span>\n",
       "<span style=\"font-style: italic\">                                                                                                         </span>\n",
       "<span style=\"font-style: italic\">                                                      Stats                                              </span>\n",
       "<span style=\"font-style: italic\">                                                                                                         </span>\n",
       "┏━━━━━━━━━━━━━━━━━━━━━┳━━━━━━━━━━━━┳━━━━━━━━━━━━━┳━━━━━━━━━━━━━┳━━━━━━━━━━━━┳━━━━━━━━━━━━━┳━━━━━━━━━━━━━┓\n",
       "┃<span style=\"font-weight: bold\"> Function            </span>┃<span style=\"font-weight: bold\"> GPU ncalls </span>┃<span style=\"font-weight: bold\"> GPU cumtime </span>┃<span style=\"font-weight: bold\"> GPU percall </span>┃<span style=\"font-weight: bold\"> CPU ncalls </span>┃<span style=\"font-weight: bold\"> CPU cumtime </span>┃<span style=\"font-weight: bold\"> CPU percall </span>┃\n",
       "┡━━━━━━━━━━━━━━━━━━━━━╇━━━━━━━━━━━━╇━━━━━━━━━━━━━╇━━━━━━━━━━━━━╇━━━━━━━━━━━━╇━━━━━━━━━━━━━╇━━━━━━━━━━━━━┩\n",
       "│ DataFrame.max       │ 2          │ 2.252       │ 1.126       │ 0          │ 0.000       │ 0.000       │\n",
       "│ DataFrame.groupby   │ 1          │ 0.001       │ 0.001       │ 0          │ 0.000       │ 0.000       │\n",
       "│ SeriesGroupBy.count │ 1          │ 0.040       │ 0.040       │ 0          │ 0.000       │ 0.000       │\n",
       "│ Series.__str__      │ 1          │ 0.011       │ 0.011       │ 0          │ 0.000       │ 0.000       │\n",
       "└─────────────────────┴────────────┴─────────────┴─────────────┴────────────┴─────────────┴─────────────┘\n",
       "</pre>\n"
      ],
      "text/plain": [
       "\u001b[3m                                                                                                         \u001b[0m\n",
       "\u001b[3m                                        Total time elapsed: 2.650 seconds                                \u001b[0m\n",
       "\u001b[3m                                      5 GPU function calls in 2.305 seconds                              \u001b[0m\n",
       "\u001b[3m                                      0 CPU function calls in 0.000 seconds                              \u001b[0m\n",
       "\u001b[3m                                                                                                         \u001b[0m\n",
       "\u001b[3m                                                      Stats                                              \u001b[0m\n",
       "\u001b[3m                                                                                                         \u001b[0m\n",
       "┏━━━━━━━━━━━━━━━━━━━━━┳━━━━━━━━━━━━┳━━━━━━━━━━━━━┳━━━━━━━━━━━━━┳━━━━━━━━━━━━┳━━━━━━━━━━━━━┳━━━━━━━━━━━━━┓\n",
       "┃\u001b[1m \u001b[0m\u001b[1mFunction           \u001b[0m\u001b[1m \u001b[0m┃\u001b[1m \u001b[0m\u001b[1mGPU ncalls\u001b[0m\u001b[1m \u001b[0m┃\u001b[1m \u001b[0m\u001b[1mGPU cumtime\u001b[0m\u001b[1m \u001b[0m┃\u001b[1m \u001b[0m\u001b[1mGPU percall\u001b[0m\u001b[1m \u001b[0m┃\u001b[1m \u001b[0m\u001b[1mCPU ncalls\u001b[0m\u001b[1m \u001b[0m┃\u001b[1m \u001b[0m\u001b[1mCPU cumtime\u001b[0m\u001b[1m \u001b[0m┃\u001b[1m \u001b[0m\u001b[1mCPU percall\u001b[0m\u001b[1m \u001b[0m┃\n",
       "┡━━━━━━━━━━━━━━━━━━━━━╇━━━━━━━━━━━━╇━━━━━━━━━━━━━╇━━━━━━━━━━━━━╇━━━━━━━━━━━━╇━━━━━━━━━━━━━╇━━━━━━━━━━━━━┩\n",
       "│ DataFrame.max       │ 2          │ 2.252       │ 1.126       │ 0          │ 0.000       │ 0.000       │\n",
       "│ DataFrame.groupby   │ 1          │ 0.001       │ 0.001       │ 0          │ 0.000       │ 0.000       │\n",
       "│ SeriesGroupBy.count │ 1          │ 0.040       │ 0.040       │ 0          │ 0.000       │ 0.000       │\n",
       "│ Series.__str__      │ 1          │ 0.011       │ 0.011       │ 0          │ 0.000       │ 0.000       │\n",
       "└─────────────────────┴────────────┴─────────────┴─────────────┴────────────┴─────────────┴─────────────┘\n"
      ]
     },
     "metadata": {},
     "output_type": "display_data"
    }
   ],
   "source": [
    "%%cudf.pandas.profile\n",
    "\n",
    "axis=0\n",
    "for ii in range(0, 2):\n",
    "    new_df.max(axis=axis)\n",
    "    axis=1\n",
    "    \n",
    "counts = new_df.groupby(\"a\").b.count()\n",
    "print(counts)"
   ]
  },
  {
   "cell_type": "code",
   "execution_count": 15,
   "metadata": {
    "tags": []
   },
   "outputs": [
    {
     "name": "stdout",
     "output_type": "stream",
     "text": [
      "a\n",
      "0    2\n",
      "1    2\n",
      "2    2\n",
      "Name: b, dtype: int64\n"
     ]
    },
    {
     "data": {
      "text/html": [
       "<pre style=\"white-space:pre;overflow-x:auto;line-height:normal;font-family:Menlo,'DejaVu Sans Mono',consolas,'Courier New',monospace\"><span style=\"font-style: italic\">                                                                                                            </span>\n",
       "<span style=\"font-style: italic\">                                         Total time elapsed: 2.470 seconds                                  </span>\n",
       "<span style=\"font-style: italic\">                                                                                                            </span>\n",
       "<span style=\"font-style: italic\">                                                       Stats                                                </span>\n",
       "<span style=\"font-style: italic\">                                                                                                            </span>\n",
       "┏━━━━━━━━━━┳━━━━━━━━━━━━━━━━━━━━━━━━━━━━━━━━━━━━━━━━━━━━━━━━━━━━━━━━━━━━━━━━━━━┳━━━━━━━━━━━━━┳━━━━━━━━━━━━━┓\n",
       "┃<span style=\"font-weight: bold\"> Line no. </span>┃<span style=\"font-weight: bold\"> Line                                                              </span>┃<span style=\"font-weight: bold\"> GPU TIME(s) </span>┃<span style=\"font-weight: bold\"> CPU TIME(s) </span>┃\n",
       "┡━━━━━━━━━━╇━━━━━━━━━━━━━━━━━━━━━━━━━━━━━━━━━━━━━━━━━━━━━━━━━━━━━━━━━━━━━━━━━━━╇━━━━━━━━━━━━━╇━━━━━━━━━━━━━┩\n",
       "│ 2        │ <span style=\"color: #f8f8f2; text-decoration-color: #f8f8f2; background-color: #272822\">    new_df </span><span style=\"color: #ff4689; text-decoration-color: #ff4689; background-color: #272822\">=</span><span style=\"color: #f8f8f2; text-decoration-color: #f8f8f2; background-color: #272822\"> pd</span><span style=\"color: #ff4689; text-decoration-color: #ff4689; background-color: #272822\">.</span><span style=\"color: #f8f8f2; text-decoration-color: #f8f8f2; background-color: #272822\">DataFrame({</span><span style=\"color: #e6db74; text-decoration-color: #e6db74; background-color: #272822\">'a'</span><span style=\"color: #f8f8f2; text-decoration-color: #f8f8f2; background-color: #272822\">: [</span><span style=\"color: #ae81ff; text-decoration-color: #ae81ff; background-color: #272822\">0</span><span style=\"color: #f8f8f2; text-decoration-color: #f8f8f2; background-color: #272822\">, </span><span style=\"color: #ae81ff; text-decoration-color: #ae81ff; background-color: #272822\">1</span><span style=\"color: #f8f8f2; text-decoration-color: #f8f8f2; background-color: #272822\">, </span><span style=\"color: #ae81ff; text-decoration-color: #ae81ff; background-color: #272822\">2</span><span style=\"color: #f8f8f2; text-decoration-color: #f8f8f2; background-color: #272822\">], </span><span style=\"color: #e6db74; text-decoration-color: #e6db74; background-color: #272822\">'b'</span><span style=\"color: #f8f8f2; text-decoration-color: #f8f8f2; background-color: #272822\">: [</span><span style=\"color: #ae81ff; text-decoration-color: #ae81ff; background-color: #272822\">100</span><span style=\"color: #f8f8f2; text-decoration-color: #f8f8f2; background-color: #272822\">, </span><span style=\"color: #ae81ff; text-decoration-color: #ae81ff; background-color: #272822\">101</span><span style=\"color: #f8f8f2; text-decoration-color: #f8f8f2; background-color: #272822\">, </span><span style=\"color: #ae81ff; text-decoration-color: #ae81ff; background-color: #272822\">102</span><span style=\"color: #f8f8f2; text-decoration-color: #f8f8f2; background-color: #272822\">]})</span> │ 0.004788732 │             │\n",
       "│          │ <span style=\"background-color: #272822\">                                                                 </span> │             │             │\n",
       "│ 3        │ <span style=\"color: #f8f8f2; text-decoration-color: #f8f8f2; background-color: #272822\">    new_df </span><span style=\"color: #ff4689; text-decoration-color: #ff4689; background-color: #272822\">=</span><span style=\"color: #f8f8f2; text-decoration-color: #f8f8f2; background-color: #272822\"> pd</span><span style=\"color: #ff4689; text-decoration-color: #ff4689; background-color: #272822\">.</span><span style=\"color: #f8f8f2; text-decoration-color: #f8f8f2; background-color: #272822\">concat([new_df, new_df], axis</span><span style=\"color: #ff4689; text-decoration-color: #ff4689; background-color: #272822\">=</span><span style=\"color: #ae81ff; text-decoration-color: #ae81ff; background-color: #272822\">0</span><span style=\"color: #f8f8f2; text-decoration-color: #f8f8f2; background-color: #272822\">)</span><span style=\"background-color: #272822\">                 </span> │ 0.011065640 │             │\n",
       "│          │ <span style=\"background-color: #272822\">                                                                 </span> │             │             │\n",
       "│ 5        │ <span style=\"color: #f8f8f2; text-decoration-color: #f8f8f2; background-color: #272822\">    axis</span><span style=\"color: #ff4689; text-decoration-color: #ff4689; background-color: #272822\">=</span><span style=\"color: #ae81ff; text-decoration-color: #ae81ff; background-color: #272822\">0</span><span style=\"background-color: #272822\">                                                       </span> │             │             │\n",
       "│          │ <span style=\"background-color: #272822\">                                                                 </span> │             │             │\n",
       "│ 6        │ <span style=\"color: #f8f8f2; text-decoration-color: #f8f8f2; background-color: #272822\">    </span><span style=\"color: #66d9ef; text-decoration-color: #66d9ef; background-color: #272822\">for</span><span style=\"color: #f8f8f2; text-decoration-color: #f8f8f2; background-color: #272822\"> ii </span><span style=\"color: #ff4689; text-decoration-color: #ff4689; background-color: #272822\">in</span><span style=\"color: #f8f8f2; text-decoration-color: #f8f8f2; background-color: #272822\"> range(</span><span style=\"color: #ae81ff; text-decoration-color: #ae81ff; background-color: #272822\">0</span><span style=\"color: #f8f8f2; text-decoration-color: #f8f8f2; background-color: #272822\">, </span><span style=\"color: #ae81ff; text-decoration-color: #ae81ff; background-color: #272822\">2</span><span style=\"color: #f8f8f2; text-decoration-color: #f8f8f2; background-color: #272822\">):</span><span style=\"background-color: #272822\">                                       </span> │             │             │\n",
       "│          │ <span style=\"background-color: #272822\">                                                                 </span> │             │             │\n",
       "│ 7        │ <span style=\"color: #f8f8f2; text-decoration-color: #f8f8f2; background-color: #272822\">        new_df</span><span style=\"color: #ff4689; text-decoration-color: #ff4689; background-color: #272822\">.</span><span style=\"color: #f8f8f2; text-decoration-color: #f8f8f2; background-color: #272822\">max(axis</span><span style=\"color: #ff4689; text-decoration-color: #ff4689; background-color: #272822\">=</span><span style=\"color: #f8f8f2; text-decoration-color: #f8f8f2; background-color: #272822\">axis)</span><span style=\"background-color: #272822\">                                    </span> │ 0.019843843 │             │\n",
       "│          │ <span style=\"background-color: #272822\">                                                                 </span> │             │             │\n",
       "│ 8        │ <span style=\"color: #f8f8f2; text-decoration-color: #f8f8f2; background-color: #272822\">        axis</span><span style=\"color: #ff4689; text-decoration-color: #ff4689; background-color: #272822\">=</span><span style=\"color: #ae81ff; text-decoration-color: #ae81ff; background-color: #272822\">1</span><span style=\"background-color: #272822\">                                                   </span> │             │             │\n",
       "│          │ <span style=\"background-color: #272822\">                                                                 </span> │             │             │\n",
       "│ 10       │ <span style=\"color: #f8f8f2; text-decoration-color: #f8f8f2; background-color: #272822\">    counts </span><span style=\"color: #ff4689; text-decoration-color: #ff4689; background-color: #272822\">=</span><span style=\"color: #f8f8f2; text-decoration-color: #f8f8f2; background-color: #272822\"> new_df</span><span style=\"color: #ff4689; text-decoration-color: #ff4689; background-color: #272822\">.</span><span style=\"color: #f8f8f2; text-decoration-color: #f8f8f2; background-color: #272822\">groupby(</span><span style=\"color: #e6db74; text-decoration-color: #e6db74; background-color: #272822\">\"a\"</span><span style=\"color: #f8f8f2; text-decoration-color: #f8f8f2; background-color: #272822\">)</span><span style=\"color: #ff4689; text-decoration-color: #ff4689; background-color: #272822\">.</span><span style=\"color: #f8f8f2; text-decoration-color: #f8f8f2; background-color: #272822\">b</span><span style=\"color: #ff4689; text-decoration-color: #ff4689; background-color: #272822\">.</span><span style=\"color: #f8f8f2; text-decoration-color: #f8f8f2; background-color: #272822\">count()</span><span style=\"background-color: #272822\">                       </span> │ 0.013493804 │             │\n",
       "│          │ <span style=\"background-color: #272822\">                                                                 </span> │             │             │\n",
       "│ 11       │ <span style=\"color: #f8f8f2; text-decoration-color: #f8f8f2; background-color: #272822\">    print(counts)</span><span style=\"background-color: #272822\">                                                </span> │ 0.011784832 │             │\n",
       "│          │ <span style=\"background-color: #272822\">                                                                 </span> │             │             │\n",
       "└──────────┴───────────────────────────────────────────────────────────────────┴─────────────┴─────────────┘\n",
       "</pre>\n"
      ],
      "text/plain": [
       "\u001b[3m                                                                                                            \u001b[0m\n",
       "\u001b[3m                                         Total time elapsed: 2.470 seconds                                  \u001b[0m\n",
       "\u001b[3m                                                                                                            \u001b[0m\n",
       "\u001b[3m                                                       Stats                                                \u001b[0m\n",
       "\u001b[3m                                                                                                            \u001b[0m\n",
       "┏━━━━━━━━━━┳━━━━━━━━━━━━━━━━━━━━━━━━━━━━━━━━━━━━━━━━━━━━━━━━━━━━━━━━━━━━━━━━━━━┳━━━━━━━━━━━━━┳━━━━━━━━━━━━━┓\n",
       "┃\u001b[1m \u001b[0m\u001b[1mLine no.\u001b[0m\u001b[1m \u001b[0m┃\u001b[1m \u001b[0m\u001b[1mLine                                                             \u001b[0m\u001b[1m \u001b[0m┃\u001b[1m \u001b[0m\u001b[1mGPU TIME(s)\u001b[0m\u001b[1m \u001b[0m┃\u001b[1m \u001b[0m\u001b[1mCPU TIME(s)\u001b[0m\u001b[1m \u001b[0m┃\n",
       "┡━━━━━━━━━━╇━━━━━━━━━━━━━━━━━━━━━━━━━━━━━━━━━━━━━━━━━━━━━━━━━━━━━━━━━━━━━━━━━━━╇━━━━━━━━━━━━━╇━━━━━━━━━━━━━┩\n",
       "│ 2        │ \u001b[38;2;248;248;242;48;2;39;40;34m    \u001b[0m\u001b[38;2;248;248;242;48;2;39;40;34mnew_df\u001b[0m\u001b[38;2;248;248;242;48;2;39;40;34m \u001b[0m\u001b[38;2;255;70;137;48;2;39;40;34m=\u001b[0m\u001b[38;2;248;248;242;48;2;39;40;34m \u001b[0m\u001b[38;2;248;248;242;48;2;39;40;34mpd\u001b[0m\u001b[38;2;255;70;137;48;2;39;40;34m.\u001b[0m\u001b[38;2;248;248;242;48;2;39;40;34mDataFrame\u001b[0m\u001b[38;2;248;248;242;48;2;39;40;34m(\u001b[0m\u001b[38;2;248;248;242;48;2;39;40;34m{\u001b[0m\u001b[38;2;230;219;116;48;2;39;40;34m'\u001b[0m\u001b[38;2;230;219;116;48;2;39;40;34ma\u001b[0m\u001b[38;2;230;219;116;48;2;39;40;34m'\u001b[0m\u001b[38;2;248;248;242;48;2;39;40;34m:\u001b[0m\u001b[38;2;248;248;242;48;2;39;40;34m \u001b[0m\u001b[38;2;248;248;242;48;2;39;40;34m[\u001b[0m\u001b[38;2;174;129;255;48;2;39;40;34m0\u001b[0m\u001b[38;2;248;248;242;48;2;39;40;34m,\u001b[0m\u001b[38;2;248;248;242;48;2;39;40;34m \u001b[0m\u001b[38;2;174;129;255;48;2;39;40;34m1\u001b[0m\u001b[38;2;248;248;242;48;2;39;40;34m,\u001b[0m\u001b[38;2;248;248;242;48;2;39;40;34m \u001b[0m\u001b[38;2;174;129;255;48;2;39;40;34m2\u001b[0m\u001b[38;2;248;248;242;48;2;39;40;34m]\u001b[0m\u001b[38;2;248;248;242;48;2;39;40;34m,\u001b[0m\u001b[38;2;248;248;242;48;2;39;40;34m \u001b[0m\u001b[38;2;230;219;116;48;2;39;40;34m'\u001b[0m\u001b[38;2;230;219;116;48;2;39;40;34mb\u001b[0m\u001b[38;2;230;219;116;48;2;39;40;34m'\u001b[0m\u001b[38;2;248;248;242;48;2;39;40;34m:\u001b[0m\u001b[38;2;248;248;242;48;2;39;40;34m \u001b[0m\u001b[38;2;248;248;242;48;2;39;40;34m[\u001b[0m\u001b[38;2;174;129;255;48;2;39;40;34m100\u001b[0m\u001b[38;2;248;248;242;48;2;39;40;34m,\u001b[0m\u001b[38;2;248;248;242;48;2;39;40;34m \u001b[0m\u001b[38;2;174;129;255;48;2;39;40;34m101\u001b[0m\u001b[38;2;248;248;242;48;2;39;40;34m,\u001b[0m\u001b[38;2;248;248;242;48;2;39;40;34m \u001b[0m\u001b[38;2;174;129;255;48;2;39;40;34m102\u001b[0m\u001b[38;2;248;248;242;48;2;39;40;34m]\u001b[0m\u001b[38;2;248;248;242;48;2;39;40;34m}\u001b[0m\u001b[38;2;248;248;242;48;2;39;40;34m)\u001b[0m │ 0.004788732 │             │\n",
       "│          │ \u001b[48;2;39;40;34m                                                                 \u001b[0m │             │             │\n",
       "│ 3        │ \u001b[38;2;248;248;242;48;2;39;40;34m    \u001b[0m\u001b[38;2;248;248;242;48;2;39;40;34mnew_df\u001b[0m\u001b[38;2;248;248;242;48;2;39;40;34m \u001b[0m\u001b[38;2;255;70;137;48;2;39;40;34m=\u001b[0m\u001b[38;2;248;248;242;48;2;39;40;34m \u001b[0m\u001b[38;2;248;248;242;48;2;39;40;34mpd\u001b[0m\u001b[38;2;255;70;137;48;2;39;40;34m.\u001b[0m\u001b[38;2;248;248;242;48;2;39;40;34mconcat\u001b[0m\u001b[38;2;248;248;242;48;2;39;40;34m(\u001b[0m\u001b[38;2;248;248;242;48;2;39;40;34m[\u001b[0m\u001b[38;2;248;248;242;48;2;39;40;34mnew_df\u001b[0m\u001b[38;2;248;248;242;48;2;39;40;34m,\u001b[0m\u001b[38;2;248;248;242;48;2;39;40;34m \u001b[0m\u001b[38;2;248;248;242;48;2;39;40;34mnew_df\u001b[0m\u001b[38;2;248;248;242;48;2;39;40;34m]\u001b[0m\u001b[38;2;248;248;242;48;2;39;40;34m,\u001b[0m\u001b[38;2;248;248;242;48;2;39;40;34m \u001b[0m\u001b[38;2;248;248;242;48;2;39;40;34maxis\u001b[0m\u001b[38;2;255;70;137;48;2;39;40;34m=\u001b[0m\u001b[38;2;174;129;255;48;2;39;40;34m0\u001b[0m\u001b[38;2;248;248;242;48;2;39;40;34m)\u001b[0m\u001b[48;2;39;40;34m                 \u001b[0m │ 0.011065640 │             │\n",
       "│          │ \u001b[48;2;39;40;34m                                                                 \u001b[0m │             │             │\n",
       "│ 5        │ \u001b[38;2;248;248;242;48;2;39;40;34m    \u001b[0m\u001b[38;2;248;248;242;48;2;39;40;34maxis\u001b[0m\u001b[38;2;255;70;137;48;2;39;40;34m=\u001b[0m\u001b[38;2;174;129;255;48;2;39;40;34m0\u001b[0m\u001b[48;2;39;40;34m                                                       \u001b[0m │             │             │\n",
       "│          │ \u001b[48;2;39;40;34m                                                                 \u001b[0m │             │             │\n",
       "│ 6        │ \u001b[38;2;248;248;242;48;2;39;40;34m    \u001b[0m\u001b[38;2;102;217;239;48;2;39;40;34mfor\u001b[0m\u001b[38;2;248;248;242;48;2;39;40;34m \u001b[0m\u001b[38;2;248;248;242;48;2;39;40;34mii\u001b[0m\u001b[38;2;248;248;242;48;2;39;40;34m \u001b[0m\u001b[38;2;255;70;137;48;2;39;40;34min\u001b[0m\u001b[38;2;248;248;242;48;2;39;40;34m \u001b[0m\u001b[38;2;248;248;242;48;2;39;40;34mrange\u001b[0m\u001b[38;2;248;248;242;48;2;39;40;34m(\u001b[0m\u001b[38;2;174;129;255;48;2;39;40;34m0\u001b[0m\u001b[38;2;248;248;242;48;2;39;40;34m,\u001b[0m\u001b[38;2;248;248;242;48;2;39;40;34m \u001b[0m\u001b[38;2;174;129;255;48;2;39;40;34m2\u001b[0m\u001b[38;2;248;248;242;48;2;39;40;34m)\u001b[0m\u001b[38;2;248;248;242;48;2;39;40;34m:\u001b[0m\u001b[48;2;39;40;34m                                       \u001b[0m │             │             │\n",
       "│          │ \u001b[48;2;39;40;34m                                                                 \u001b[0m │             │             │\n",
       "│ 7        │ \u001b[38;2;248;248;242;48;2;39;40;34m        \u001b[0m\u001b[38;2;248;248;242;48;2;39;40;34mnew_df\u001b[0m\u001b[38;2;255;70;137;48;2;39;40;34m.\u001b[0m\u001b[38;2;248;248;242;48;2;39;40;34mmax\u001b[0m\u001b[38;2;248;248;242;48;2;39;40;34m(\u001b[0m\u001b[38;2;248;248;242;48;2;39;40;34maxis\u001b[0m\u001b[38;2;255;70;137;48;2;39;40;34m=\u001b[0m\u001b[38;2;248;248;242;48;2;39;40;34maxis\u001b[0m\u001b[38;2;248;248;242;48;2;39;40;34m)\u001b[0m\u001b[48;2;39;40;34m                                    \u001b[0m │ 0.019843843 │             │\n",
       "│          │ \u001b[48;2;39;40;34m                                                                 \u001b[0m │             │             │\n",
       "│ 8        │ \u001b[38;2;248;248;242;48;2;39;40;34m        \u001b[0m\u001b[38;2;248;248;242;48;2;39;40;34maxis\u001b[0m\u001b[38;2;255;70;137;48;2;39;40;34m=\u001b[0m\u001b[38;2;174;129;255;48;2;39;40;34m1\u001b[0m\u001b[48;2;39;40;34m                                                   \u001b[0m │             │             │\n",
       "│          │ \u001b[48;2;39;40;34m                                                                 \u001b[0m │             │             │\n",
       "│ 10       │ \u001b[38;2;248;248;242;48;2;39;40;34m    \u001b[0m\u001b[38;2;248;248;242;48;2;39;40;34mcounts\u001b[0m\u001b[38;2;248;248;242;48;2;39;40;34m \u001b[0m\u001b[38;2;255;70;137;48;2;39;40;34m=\u001b[0m\u001b[38;2;248;248;242;48;2;39;40;34m \u001b[0m\u001b[38;2;248;248;242;48;2;39;40;34mnew_df\u001b[0m\u001b[38;2;255;70;137;48;2;39;40;34m.\u001b[0m\u001b[38;2;248;248;242;48;2;39;40;34mgroupby\u001b[0m\u001b[38;2;248;248;242;48;2;39;40;34m(\u001b[0m\u001b[38;2;230;219;116;48;2;39;40;34m\"\u001b[0m\u001b[38;2;230;219;116;48;2;39;40;34ma\u001b[0m\u001b[38;2;230;219;116;48;2;39;40;34m\"\u001b[0m\u001b[38;2;248;248;242;48;2;39;40;34m)\u001b[0m\u001b[38;2;255;70;137;48;2;39;40;34m.\u001b[0m\u001b[38;2;248;248;242;48;2;39;40;34mb\u001b[0m\u001b[38;2;255;70;137;48;2;39;40;34m.\u001b[0m\u001b[38;2;248;248;242;48;2;39;40;34mcount\u001b[0m\u001b[38;2;248;248;242;48;2;39;40;34m(\u001b[0m\u001b[38;2;248;248;242;48;2;39;40;34m)\u001b[0m\u001b[48;2;39;40;34m                       \u001b[0m │ 0.013493804 │             │\n",
       "│          │ \u001b[48;2;39;40;34m                                                                 \u001b[0m │             │             │\n",
       "│ 11       │ \u001b[38;2;248;248;242;48;2;39;40;34m    \u001b[0m\u001b[38;2;248;248;242;48;2;39;40;34mprint\u001b[0m\u001b[38;2;248;248;242;48;2;39;40;34m(\u001b[0m\u001b[38;2;248;248;242;48;2;39;40;34mcounts\u001b[0m\u001b[38;2;248;248;242;48;2;39;40;34m)\u001b[0m\u001b[48;2;39;40;34m                                                \u001b[0m │ 0.011784832 │             │\n",
       "│          │ \u001b[48;2;39;40;34m                                                                 \u001b[0m │             │             │\n",
       "└──────────┴───────────────────────────────────────────────────────────────────┴─────────────┴─────────────┘\n"
      ]
     },
     "metadata": {},
     "output_type": "display_data"
    }
   ],
   "source": [
    "%%cudf.pandas.line_profile\n",
    "\n",
    "new_df = pd.DataFrame({'a': [0, 1, 2], 'b': [100, 101, 102]})\n",
    "new_df = pd.concat([new_df, new_df], axis=0)\n",
    "\n",
    "axis=0\n",
    "for ii in range(0, 2):\n",
    "    new_df.max(axis=axis)\n",
    "    axis=1\n",
    "    \n",
    "counts = new_df.groupby(\"a\").b.count()\n",
    "print(counts)"
   ]
  },
  {
   "cell_type": "code",
   "execution_count": 18,
   "metadata": {
    "tags": []
   },
   "outputs": [
    {
     "data": {
      "text/plain": [
       "a    6\n",
       "b    6\n",
       "dtype: int64"
      ]
     },
     "execution_count": 18,
     "metadata": {},
     "output_type": "execute_result"
    },
    {
     "data": {
      "text/html": [
       "<pre style=\"white-space:pre;overflow-x:auto;line-height:normal;font-family:Menlo,'DejaVu Sans Mono',consolas,'Courier New',monospace\"><span style=\"font-style: italic\">                                                                                                     </span>\n",
       "<span style=\"font-style: italic\">                                      Total time elapsed: 0.269 seconds                              </span>\n",
       "<span style=\"font-style: italic\">                                    3 GPU function calls in 0.015 seconds                            </span>\n",
       "<span style=\"font-style: italic\">                                    0 CPU function calls in 0.000 seconds                            </span>\n",
       "<span style=\"font-style: italic\">                                                                                                     </span>\n",
       "<span style=\"font-style: italic\">                                                    Stats                                            </span>\n",
       "<span style=\"font-style: italic\">                                                                                                     </span>\n",
       "┏━━━━━━━━━━━━━━━━━┳━━━━━━━━━━━━┳━━━━━━━━━━━━━┳━━━━━━━━━━━━━┳━━━━━━━━━━━━┳━━━━━━━━━━━━━┳━━━━━━━━━━━━━┓\n",
       "┃<span style=\"font-weight: bold\"> Function        </span>┃<span style=\"font-weight: bold\"> GPU ncalls </span>┃<span style=\"font-weight: bold\"> GPU cumtime </span>┃<span style=\"font-weight: bold\"> GPU percall </span>┃<span style=\"font-weight: bold\"> CPU ncalls </span>┃<span style=\"font-weight: bold\"> CPU cumtime </span>┃<span style=\"font-weight: bold\"> CPU percall </span>┃\n",
       "┡━━━━━━━━━━━━━━━━━╇━━━━━━━━━━━━╇━━━━━━━━━━━━━╇━━━━━━━━━━━━━╇━━━━━━━━━━━━╇━━━━━━━━━━━━━╇━━━━━━━━━━━━━┩\n",
       "│ DataFrame.count │ 1          │ 0.004       │ 0.004       │ 0          │ 0.000       │ 0.000       │\n",
       "│ Series          │ 1          │ 0.000       │ 0.000       │ 0          │ 0.000       │ 0.000       │\n",
       "│ Series.__repr__ │ 1          │ 0.011       │ 0.011       │ 0          │ 0.000       │ 0.000       │\n",
       "└─────────────────┴────────────┴─────────────┴─────────────┴────────────┴─────────────┴─────────────┘\n",
       "</pre>\n"
      ],
      "text/plain": [
       "\u001b[3m                                                                                                     \u001b[0m\n",
       "\u001b[3m                                      Total time elapsed: 0.269 seconds                              \u001b[0m\n",
       "\u001b[3m                                    3 GPU function calls in 0.015 seconds                            \u001b[0m\n",
       "\u001b[3m                                    0 CPU function calls in 0.000 seconds                            \u001b[0m\n",
       "\u001b[3m                                                                                                     \u001b[0m\n",
       "\u001b[3m                                                    Stats                                            \u001b[0m\n",
       "\u001b[3m                                                                                                     \u001b[0m\n",
       "┏━━━━━━━━━━━━━━━━━┳━━━━━━━━━━━━┳━━━━━━━━━━━━━┳━━━━━━━━━━━━━┳━━━━━━━━━━━━┳━━━━━━━━━━━━━┳━━━━━━━━━━━━━┓\n",
       "┃\u001b[1m \u001b[0m\u001b[1mFunction       \u001b[0m\u001b[1m \u001b[0m┃\u001b[1m \u001b[0m\u001b[1mGPU ncalls\u001b[0m\u001b[1m \u001b[0m┃\u001b[1m \u001b[0m\u001b[1mGPU cumtime\u001b[0m\u001b[1m \u001b[0m┃\u001b[1m \u001b[0m\u001b[1mGPU percall\u001b[0m\u001b[1m \u001b[0m┃\u001b[1m \u001b[0m\u001b[1mCPU ncalls\u001b[0m\u001b[1m \u001b[0m┃\u001b[1m \u001b[0m\u001b[1mCPU cumtime\u001b[0m\u001b[1m \u001b[0m┃\u001b[1m \u001b[0m\u001b[1mCPU percall\u001b[0m\u001b[1m \u001b[0m┃\n",
       "┡━━━━━━━━━━━━━━━━━╇━━━━━━━━━━━━╇━━━━━━━━━━━━━╇━━━━━━━━━━━━━╇━━━━━━━━━━━━╇━━━━━━━━━━━━━╇━━━━━━━━━━━━━┩\n",
       "│ DataFrame.count │ 1          │ 0.004       │ 0.004       │ 0          │ 0.000       │ 0.000       │\n",
       "│ Series          │ 1          │ 0.000       │ 0.000       │ 0          │ 0.000       │ 0.000       │\n",
       "│ Series.__repr__ │ 1          │ 0.011       │ 0.011       │ 0          │ 0.000       │ 0.000       │\n",
       "└─────────────────┴────────────┴─────────────┴─────────────┴────────────┴─────────────┴─────────────┘\n"
      ]
     },
     "metadata": {},
     "output_type": "display_data"
    }
   ],
   "source": [
    "%%cudf.pandas.profile\n",
    "new_df.count(axis=0)"
   ]
  },
  {
   "cell_type": "code",
   "execution_count": 19,
   "metadata": {
    "tags": []
   },
   "outputs": [
    {
     "data": {
      "text/plain": [
       "0    2\n",
       "1    2\n",
       "2    2\n",
       "0    2\n",
       "1    2\n",
       "2    2\n",
       "dtype: int64"
      ]
     },
     "execution_count": 19,
     "metadata": {},
     "output_type": "execute_result"
    },
    {
     "data": {
      "text/html": [
       "<pre style=\"white-space:pre;overflow-x:auto;line-height:normal;font-family:Menlo,'DejaVu Sans Mono',consolas,'Courier New',monospace\"><span style=\"font-style: italic\">                                                                                                     </span>\n",
       "<span style=\"font-style: italic\">                                      Total time elapsed: 0.277 seconds                              </span>\n",
       "<span style=\"font-style: italic\">                                    2 GPU function calls in 0.012 seconds                            </span>\n",
       "<span style=\"font-style: italic\">                                    1 CPU function calls in 0.017 seconds                            </span>\n",
       "<span style=\"font-style: italic\">                                                                                                     </span>\n",
       "<span style=\"font-style: italic\">                                                    Stats                                            </span>\n",
       "<span style=\"font-style: italic\">                                                                                                     </span>\n",
       "┏━━━━━━━━━━━━━━━━━┳━━━━━━━━━━━━┳━━━━━━━━━━━━━┳━━━━━━━━━━━━━┳━━━━━━━━━━━━┳━━━━━━━━━━━━━┳━━━━━━━━━━━━━┓\n",
       "┃<span style=\"font-weight: bold\"> Function        </span>┃<span style=\"font-weight: bold\"> GPU ncalls </span>┃<span style=\"font-weight: bold\"> GPU cumtime </span>┃<span style=\"font-weight: bold\"> GPU percall </span>┃<span style=\"font-weight: bold\"> CPU ncalls </span>┃<span style=\"font-weight: bold\"> CPU cumtime </span>┃<span style=\"font-weight: bold\"> CPU percall </span>┃\n",
       "┡━━━━━━━━━━━━━━━━━╇━━━━━━━━━━━━╇━━━━━━━━━━━━━╇━━━━━━━━━━━━━╇━━━━━━━━━━━━╇━━━━━━━━━━━━━╇━━━━━━━━━━━━━┩\n",
       "│ DataFrame.count │ 0          │ 0.000       │ 0.000       │ 1          │ 0.017       │ 0.017       │\n",
       "│ Series          │ 1          │ 0.000       │ 0.000       │ 0          │ 0.000       │ 0.000       │\n",
       "│ Series.__repr__ │ 1          │ 0.011       │ 0.011       │ 0          │ 0.000       │ 0.000       │\n",
       "└─────────────────┴────────────┴─────────────┴─────────────┴────────────┴─────────────┴─────────────┘\n",
       "</pre>\n"
      ],
      "text/plain": [
       "\u001b[3m                                                                                                     \u001b[0m\n",
       "\u001b[3m                                      Total time elapsed: 0.277 seconds                              \u001b[0m\n",
       "\u001b[3m                                    2 GPU function calls in 0.012 seconds                            \u001b[0m\n",
       "\u001b[3m                                    1 CPU function calls in 0.017 seconds                            \u001b[0m\n",
       "\u001b[3m                                                                                                     \u001b[0m\n",
       "\u001b[3m                                                    Stats                                            \u001b[0m\n",
       "\u001b[3m                                                                                                     \u001b[0m\n",
       "┏━━━━━━━━━━━━━━━━━┳━━━━━━━━━━━━┳━━━━━━━━━━━━━┳━━━━━━━━━━━━━┳━━━━━━━━━━━━┳━━━━━━━━━━━━━┳━━━━━━━━━━━━━┓\n",
       "┃\u001b[1m \u001b[0m\u001b[1mFunction       \u001b[0m\u001b[1m \u001b[0m┃\u001b[1m \u001b[0m\u001b[1mGPU ncalls\u001b[0m\u001b[1m \u001b[0m┃\u001b[1m \u001b[0m\u001b[1mGPU cumtime\u001b[0m\u001b[1m \u001b[0m┃\u001b[1m \u001b[0m\u001b[1mGPU percall\u001b[0m\u001b[1m \u001b[0m┃\u001b[1m \u001b[0m\u001b[1mCPU ncalls\u001b[0m\u001b[1m \u001b[0m┃\u001b[1m \u001b[0m\u001b[1mCPU cumtime\u001b[0m\u001b[1m \u001b[0m┃\u001b[1m \u001b[0m\u001b[1mCPU percall\u001b[0m\u001b[1m \u001b[0m┃\n",
       "┡━━━━━━━━━━━━━━━━━╇━━━━━━━━━━━━╇━━━━━━━━━━━━━╇━━━━━━━━━━━━━╇━━━━━━━━━━━━╇━━━━━━━━━━━━━╇━━━━━━━━━━━━━┩\n",
       "│ DataFrame.count │ 0          │ 0.000       │ 0.000       │ 1          │ 0.017       │ 0.017       │\n",
       "│ Series          │ 1          │ 0.000       │ 0.000       │ 0          │ 0.000       │ 0.000       │\n",
       "│ Series.__repr__ │ 1          │ 0.011       │ 0.011       │ 0          │ 0.000       │ 0.000       │\n",
       "└─────────────────┴────────────┴─────────────┴─────────────┴────────────┴─────────────┴─────────────┘\n"
      ]
     },
     "metadata": {},
     "output_type": "display_data"
    },
    {
     "data": {
      "text/html": [
       "<pre style=\"white-space:pre;overflow-x:auto;line-height:normal;font-family:Menlo,'DejaVu Sans Mono',consolas,'Courier New',monospace\">Not all pandas operations ran on the GPU. The following functions required CPU fallback:\n",
       "\n",
       "- DataFrame.count\n",
       "\n",
       "</pre>\n"
      ],
      "text/plain": [
       "Not all pandas operations ran on the GPU. The following functions required CPU fallback:\n",
       "\n",
       "- DataFrame.count\n",
       "\n"
      ]
     },
     "metadata": {},
     "output_type": "display_data"
    },
    {
     "data": {
      "text/html": [
       "<pre style=\"white-space:pre;overflow-x:auto;line-height:normal;font-family:Menlo,'DejaVu Sans Mono',consolas,'Courier New',monospace\">To request GPU support for any of these functions, please file a Github issue here: \n",
       "<a href=\"https://github.com/rapidsai/cudf/issues/new?assignees=&labels=%3F+-+Needs+Triage%2C+feature+request&projects=&template=pandas_function_request.md&title=%5BFEA%5D\" target=\"_blank\"><span style=\"color: #0000ff; text-decoration-color: #0000ff; text-decoration: underline\">https://github.com/rapidsai/cudf/issues/new/choose</span></a><span style=\"color: #0000ff; text-decoration-color: #0000ff; text-decoration: underline\">.</span>\n",
       "</pre>\n"
      ],
      "text/plain": [
       "To request GPU support for any of these functions, please file a Github issue here: \n",
       "\u001b]8;id=511796;https://github.com/rapidsai/cudf/issues/new?assignees=&labels=%3F+-+Needs+Triage%2C+feature+request&projects=&template=pandas_function_request.md&title=%5BFEA%5D\u001b\\\u001b[4;94mhttps://github.com/rapidsai/cudf/issues/new/choose\u001b[0m\u001b]8;;\u001b\\\u001b[4;94m.\u001b[0m\n"
      ]
     },
     "metadata": {},
     "output_type": "display_data"
    }
   ],
   "source": [
    "%%cudf.pandas.profile\n",
    "new_df.count(axis=1)"
   ]
  },
  {
   "cell_type": "code",
   "execution_count": null,
   "metadata": {},
   "outputs": [],
   "source": []
  }
 ],
 "metadata": {
  "kernelspec": {
   "display_name": "Python 3 (ipykernel)",
   "language": "python",
   "name": "python3"
  },
  "language_info": {
   "codemirror_mode": {
    "name": "ipython",
    "version": 3
   },
   "file_extension": ".py",
   "mimetype": "text/x-python",
   "name": "python",
   "nbconvert_exporter": "python",
   "pygments_lexer": "ipython3",
   "version": "3.10.14"
  }
 },
 "nbformat": 4,
 "nbformat_minor": 4
}
